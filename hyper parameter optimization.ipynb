{
 "cells": [
  {
   "cell_type": "code",
   "execution_count": 1,
   "id": "abbb50d8",
   "metadata": {},
   "outputs": [],
   "source": [
    "import pandas as pd\n",
    "\n",
    "from sklearn.kernel_ridge import KernelRidge\n",
    "from sklearn.model_selection import GridSearchCV\n",
    "from sklearn.preprocessing import StandardScaler\n",
    "\n",
    "from sklearn.metrics import mean_squared_error\n",
    "from sklearn.metrics import r2_score"
   ]
  },
  {
   "cell_type": "code",
   "execution_count": 3,
   "id": "c52610a2",
   "metadata": {
    "scrolled": true
   },
   "outputs": [
    {
     "name": "stdout",
     "output_type": "stream",
     "text": [
      "---MSE+R2 of Training Set---\n",
      "0.14967179771907274\n",
      "0.9374691274247304\n"
     ]
    }
   ],
   "source": [
    "#read data\n",
    "test = pd.read_csv(\"data_large_modified.csv\")\n",
    "train = pd.read_csv(\"data_large_modified.csv\")\n",
    "\n",
    "#specify feature column names\n",
    "feature_cols = train.columns[:-1]\n",
    "feature_names = train.columns.values\n",
    "feature_out = train.columns[-1]\n",
    "\n",
    "#splitting into dependant and independant variables\n",
    "X_train = train.loc[:, feature_cols]\n",
    "y_train = train[feature_out]\n",
    "X_test = test.loc[:, feature_cols]\n",
    "y_test = test[feature_out]\n",
    "\n",
    "\n",
    "#normalizing \n",
    "scaler = StandardScaler()  \n",
    "scaler.fit(X_train)  \n",
    "X_train = scaler.transform(X_train)  \n",
    "X_test = scaler.transform(X_test)  \n",
    "\n",
    "tuned_parameters = [{'kernel':[\"linear\",\"rbf\"],'alpha': [0.01]}]\n",
    "\n",
    "clf = GridSearchCV(KernelRidge(), tuned_parameters, cv=5)\n",
    "clf.fit(X_train, y_train)\n",
    "\n",
    "#prediction\n",
    "y_pred_train = clf.predict(X_train)\n",
    "print(\"---MSE+R2 of Training Set---\")\n",
    "print(mean_squared_error(y_train, y_pred_train))\n",
    "print(r2_score(y_train, y_pred_train))"
   ]
  },
  {
   "cell_type": "code",
   "execution_count": null,
   "id": "e5fc2cab",
   "metadata": {},
   "outputs": [],
   "source": []
  }
 ],
 "metadata": {
  "kernelspec": {
   "display_name": "Python 3 (ipykernel)",
   "language": "python",
   "name": "python3"
  },
  "language_info": {
   "codemirror_mode": {
    "name": "ipython",
    "version": 3
   },
   "file_extension": ".py",
   "mimetype": "text/x-python",
   "name": "python",
   "nbconvert_exporter": "python",
   "pygments_lexer": "ipython3",
   "version": "3.7.9"
  }
 },
 "nbformat": 4,
 "nbformat_minor": 5
}
