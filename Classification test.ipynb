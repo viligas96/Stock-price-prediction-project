{
 "cells": [
  {
   "cell_type": "code",
   "execution_count": 1,
   "id": "149c7542",
   "metadata": {},
   "outputs": [
    {
     "name": "stderr",
     "output_type": "stream",
     "text": [
      "c:\\users\\zhuch\\appdata\\local\\programs\\python\\python37\\lib\\site-packages\\numpy\\_distributor_init.py:32: UserWarning: loaded more than 1 DLL from .libs:\n",
      "c:\\users\\zhuch\\appdata\\local\\programs\\python\\python37\\lib\\site-packages\\numpy\\.libs\\libopenblas.WCDJNK7YVMPZQ2ME2ZZHJJRJ3JIKNDB7.gfortran-win_amd64.dll\n",
      "c:\\users\\zhuch\\appdata\\local\\programs\\python\\python37\\lib\\site-packages\\numpy\\.libs\\libopenblas.XWYDX2IKJW2NMTWSFYNGFUWKQU3LYTCZ.gfortran-win_amd64.dll\n",
      "  stacklevel=1)\n"
     ]
    }
   ],
   "source": [
    "import pandas as pd\n",
    "from sklearn.model_selection import train_test_split\n",
    "from sklearn import tree\n",
    "from sklearn.tree import DecisionTreeClassifier\n",
    "from sklearn import metrics\n",
    "from sklearn.ensemble import RandomForestClassifier\n",
    "from sklearn.model_selection import cross_val_score, GridSearchCV, cross_validate, train_test_split\n",
    "from sklearn.metrics import accuracy_score, classification_report\n",
    "from sklearn.svm import SVC\n",
    "from sklearn.preprocessing import StandardScaler, normalize\n",
    "from sklearn.linear_model import LogisticRegression\n",
    "from sklearn.neighbors import KNeighborsClassifier"
   ]
  },
  {
   "cell_type": "code",
   "execution_count": 2,
   "id": "bbc8d56c",
   "metadata": {},
   "outputs": [],
   "source": [
    "files = pd.read_csv('data_large.csv')\n",
    "X = files.drop(['name_of_stock','cipd(dependent)', 'dcpd(dependent)'], axis = 1)\n",
    "y = files['cipd(dependent)']"
   ]
  },
  {
   "cell_type": "code",
   "execution_count": 3,
   "id": "9a864a98",
   "metadata": {},
   "outputs": [],
   "source": [
    "x_train, test_x, y_train, test_y = train_test_split(X, y, test_size = 0.25, random_state = 49)\n",
    "sc = StandardScaler()\n",
    "X_train = sc.fit_transform(x_train)\n",
    "test_X = sc.transform(test_x)"
   ]
  },
  {
   "cell_type": "code",
   "execution_count": 4,
   "id": "8d2f5688",
   "metadata": {},
   "outputs": [
    {
     "name": "stdout",
     "output_type": "stream",
     "text": [
      "0.8352941176470589\n",
      "0.7790697674418605\n"
     ]
    }
   ],
   "source": [
    "# Decision Tree Implementation\n",
    "clf_dt = DecisionTreeClassifier(max_depth=3, random_state = 42).fit(X_train, y_train)\n",
    "y_predict_train = clf_dt.predict(X_train)\n",
    "y_predict_test = clf_dt.predict(test_X)\n",
    "train_accuracy = accuracy_score(y_predict_train, y_train)\n",
    "test_accuracy = accuracy_score(y_predict_test, test_y)\n",
    "print(train_accuracy)\n",
    "print(test_accuracy)"
   ]
  },
  {
   "cell_type": "code",
   "execution_count": 5,
   "id": "d9452fdb",
   "metadata": {},
   "outputs": [
    {
     "name": "stdout",
     "output_type": "stream",
     "text": [
      "1.0\n",
      "0.8023255813953488\n"
     ]
    }
   ],
   "source": [
    "# Random Forest Implementation\n",
    "clf_rf = RandomForestClassifier(random_state=42).fit(X_train, y_train)\n",
    "y_predict_train = clf_rf.predict(X_train)\n",
    "y_predict_test = clf_rf.predict(test_X)\n",
    "train_accuracy = accuracy_score(y_predict_train, y_train)\n",
    "test_accuracy = accuracy_score(y_predict_test, test_y)\n",
    "print(train_accuracy)\n",
    "print(test_accuracy)"
   ]
  },
  {
   "cell_type": "code",
   "execution_count": 6,
   "id": "6b70725c",
   "metadata": {},
   "outputs": [
    {
     "name": "stdout",
     "output_type": "stream",
     "text": [
      "0.807843137254902\n",
      "0.8488372093023255\n"
     ]
    }
   ],
   "source": [
    "# SVM Implementation\n",
    "clf_svm = SVC(gamma = 'scale').fit(X_train, y_train)\n",
    "y_predict_train = clf_svm.predict(X_train)\n",
    "y_predict_test = clf_svm.predict(test_X)\n",
    "train_accuracy = accuracy_score(y_predict_train, y_train)\n",
    "test_accuracy = accuracy_score(y_predict_test, test_y)\n",
    "print(train_accuracy)\n",
    "print(test_accuracy)"
   ]
  },
  {
   "cell_type": "code",
   "execution_count": 7,
   "id": "2d60bf5f",
   "metadata": {},
   "outputs": [
    {
     "name": "stdout",
     "output_type": "stream",
     "text": [
      "0.8117647058823529\n",
      "0.8488372093023255\n"
     ]
    }
   ],
   "source": [
    "# Logistic Regression Implementation\n",
    "clf_lr = LogisticRegression().fit(X_train, y_train)\n",
    "y_predict_train = clf_lr.predict(X_train)\n",
    "y_predict_test = clf_lr.predict(test_X)\n",
    "train_accuracy = accuracy_score(y_predict_train, y_train)\n",
    "test_accuracy = accuracy_score(y_predict_test, test_y)\n",
    "print(train_accuracy)\n",
    "print(test_accuracy)"
   ]
  },
  {
   "cell_type": "code",
   "execution_count": 8,
   "id": "403d5bc7",
   "metadata": {},
   "outputs": [
    {
     "name": "stdout",
     "output_type": "stream",
     "text": [
      "0.8235294117647058\n",
      "0.8255813953488372\n"
     ]
    }
   ],
   "source": [
    "# K-NN \n",
    "clf_KNN = KNeighborsClassifier(n_neighbors=7).fit(X_train, y_train)\n",
    "y_predict_train = clf_KNN.predict(X_train)\n",
    "y_predict_test = clf_KNN.predict(test_X)\n",
    "train_accuracy = accuracy_score(y_predict_train, y_train)\n",
    "test_accuracy = accuracy_score(y_predict_test, test_y)\n",
    "print(train_accuracy)\n",
    "print(test_accuracy)"
   ]
  },
  {
   "cell_type": "code",
   "execution_count": null,
   "id": "68693289",
   "metadata": {},
   "outputs": [],
   "source": []
  }
 ],
 "metadata": {
  "kernelspec": {
   "display_name": "Python 3 (ipykernel)",
   "language": "python",
   "name": "python3"
  },
  "language_info": {
   "codemirror_mode": {
    "name": "ipython",
    "version": 3
   },
   "file_extension": ".py",
   "mimetype": "text/x-python",
   "name": "python",
   "nbconvert_exporter": "python",
   "pygments_lexer": "ipython3",
   "version": "3.7.9"
  }
 },
 "nbformat": 4,
 "nbformat_minor": 5
}
