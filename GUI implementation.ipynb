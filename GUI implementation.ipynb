{
 "cells": [
  {
   "cell_type": "code",
   "execution_count": 1,
   "id": "2dd6da43",
   "metadata": {},
   "outputs": [
    {
     "data": {
      "text/plain": [
       "''"
      ]
     },
     "execution_count": 1,
     "metadata": {},
     "output_type": "execute_result"
    }
   ],
   "source": [
    "from tkinter import *\n",
    "root = Tk()\n",
    "root.geometry('1600x900')"
   ]
  },
  {
   "cell_type": "code",
   "execution_count": 2,
   "id": "9caae58e",
   "metadata": {},
   "outputs": [],
   "source": [
    "class stock_prediction_gui(Frame):\n",
    "    def __init__(self, parent):\n",
    "        super().__init__(parent)\n",
    "\n",
    "        # default img displayed is None.\n",
    "        self.img = None\n",
    "        self.img_label = None\n",
    "\n",
    "        # List all the stocks provided and methods\n",
    "        stock_list = (\"AA\", \"AACG\", \"AAIC\", \"AAL\", \"AAN\", \"AAOI\",\n",
    "                      \"AAON\", \"AAP\", \"AAPL\", \"AAT\", \"AAWW\", \"AB\", \"ABB\", \"ABBV\")\n",
    "        prediction_method_list = (\"knn\", \"lr\", \"arima\", \"lstm\")\n",
    "\n",
    "        # determine the stock and method\n",
    "        Label(root, text=\"Select the stock\", font=('Arial', 15)).pack()\n",
    "        self.predicted_stock = StringVar()\n",
    "        stock_option = OptionMenu(root, self.predicted_stock, *stock_list)\n",
    "        stock_option.pack()\n",
    "\n",
    "        Label(root, text=\"Select the method you want to use\", font=('Arial', 15)).pack()\n",
    "        self.prediction_method = StringVar()\n",
    "        method_option = OptionMenu(root, self.prediction_method, *prediction_method_list)\n",
    "        method_option.pack()\n",
    "\n",
    "        # Submit button\n",
    "        Button(self, text=\"PREDICT!\", font=('Arial', 20), width=50, height=5, command=self.display).pack()\n",
    "\n",
    "    def display(self):\n",
    "        # remove the image already displayed\n",
    "        if self.img is not None:\n",
    "            self.img_label.destroy()\n",
    "        file_path = \"prediction/\" + str(self.prediction_method.get()) + \"_\" + str(self.predicted_stock.get()) + \".png\"\n",
    "        try:\n",
    "            self.img = PhotoImage(file=file_path)\n",
    "        except Exception:\n",
    "            return\n",
    "        self.img = self.img.subsample(3, 3)\n",
    "        self.img_label = Label(root, image=self.img)\n",
    "        self.img_label.pack()"
   ]
  },
  {
   "cell_type": "code",
   "execution_count": 3,
   "id": "e390f3be",
   "metadata": {
    "scrolled": true
   },
   "outputs": [],
   "source": [
    "Label(root, text=\"Welcome to my stock prediction project\", font=('Arial', 25)).pack()\n",
    "stock_prediction_gui(root).pack()\n",
    "root.mainloop()"
   ]
  },
  {
   "cell_type": "code",
   "execution_count": null,
   "id": "d06eabec",
   "metadata": {},
   "outputs": [],
   "source": []
  }
 ],
 "metadata": {
  "kernelspec": {
   "display_name": "Python 3 (ipykernel)",
   "language": "python",
   "name": "python3"
  },
  "language_info": {
   "codemirror_mode": {
    "name": "ipython",
    "version": 3
   },
   "file_extension": ".py",
   "mimetype": "text/x-python",
   "name": "python",
   "nbconvert_exporter": "python",
   "pygments_lexer": "ipython3",
   "version": "3.7.9"
  }
 },
 "nbformat": 4,
 "nbformat_minor": 5
}
